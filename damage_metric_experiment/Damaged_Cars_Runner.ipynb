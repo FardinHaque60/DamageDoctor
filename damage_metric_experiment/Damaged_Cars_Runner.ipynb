{
 "cells": [
  {
   "cell_type": "code",
   "execution_count": 6,
   "id": "daf49191-cafe-44c2-8d66-58cdf5e50668",
   "metadata": {},
   "outputs": [],
   "source": [
    "import numpy as np\n",
    "from keras.preprocessing import image\n",
    "from keras.models import load_model\n",
    "import os"
   ]
  },
  {
   "cell_type": "code",
   "execution_count": 7,
   "id": "c87c782e-40b6-4d84-a933-f0dccf80db21",
   "metadata": {},
   "outputs": [
    {
     "name": "stderr",
     "output_type": "stream",
     "text": [
      "WARNING:absl:Compiled the loaded model, but the compiled metrics have yet to be built. `model.compile_metrics` will be empty until you train or evaluate the model.\n"
     ]
    }
   ],
   "source": [
    "# image paths\n",
    "img_validation_d_dir = \"cars_ds/validation/00-damage\"\n",
    "img_validation_w_dir = \"cars_ds/validation/01-whole\"\n",
    "IMAGE = os.path.join(img_validation_d_dir, \"0008.JPEG\")\n",
    "# Load the image\n",
    "img_path = IMAGE\n",
    "img = image.load_img(img_path, target_size=(224, 224))  # Resize the image to match the model's input size\n",
    "img_array = image.img_to_array(img)\n",
    "img_array = np.expand_dims(img_array, axis=0)  # Add batch dimension\n",
    "\n",
    "# load the model\n",
    "damage_detector = load_model(\"Car_detection.h5\")"
   ]
  },
  {
   "cell_type": "code",
   "execution_count": 8,
   "id": "802d911f-6ab7-4442-8d72-33a3cdab9f20",
   "metadata": {},
   "outputs": [
    {
     "name": "stdout",
     "output_type": "stream",
     "text": [
      "\u001b[1m1/1\u001b[0m \u001b[32m━━━━━━━━━━━━━━━━━━━━\u001b[0m\u001b[37m\u001b[0m \u001b[1m1s\u001b[0m 1s/step\n"
     ]
    }
   ],
   "source": [
    "# Make predictions\n",
    "predictions = damage_detector.predict(img_array)"
   ]
  },
  {
   "cell_type": "code",
   "execution_count": null,
   "id": "540a6653-ece0-498a-a01a-83a5f0e2206a",
   "metadata": {},
   "outputs": [],
   "source": []
  }
 ],
 "metadata": {
  "kernelspec": {
   "display_name": "Python 3 (ipykernel)",
   "language": "python",
   "name": "python3"
  },
  "language_info": {
   "codemirror_mode": {
    "name": "ipython",
    "version": 3
   },
   "file_extension": ".py",
   "mimetype": "text/x-python",
   "name": "python",
   "nbconvert_exporter": "python",
   "pygments_lexer": "ipython3",
   "version": "3.11.8"
  }
 },
 "nbformat": 4,
 "nbformat_minor": 5
}
